{
 "cells": [
  {
   "cell_type": "code",
   "execution_count": null,
   "id": "a66b3bfc",
   "metadata": {},
   "outputs": [],
   "source": [
    "baseurl = \"http://api.weatherapi.com/v1\"\n",
    "tiffanies_key = \"a76201b1111a476d9dd148392507\"\n",
    "\n",
    "\n"
   ]
  },
  {
   "cell_type": "code",
   "execution_count": 42,
   "id": "01f71813",
   "metadata": {},
   "outputs": [],
   "source": [
    "#http://api.weatherapi.com/v1/current.json?key=<YOUR_API_KEY>&q=London"
   ]
  },
  {
   "cell_type": "code",
   "execution_count": 43,
   "id": "a78e3ec1",
   "metadata": {},
   "outputs": [],
   "source": [
    "import requests\n",
    "import pandas as pd"
   ]
  },
  {
   "cell_type": "code",
   "execution_count": 44,
   "id": "f88dedfb",
   "metadata": {},
   "outputs": [],
   "source": [
    "city = \"Louisville\"\n",
    "baseurl = f\"http://api.weatherapi.com/v1/current.json?key={tiffanies_key}&q={city}\"\n",
    "response = requests.get(baseurl)"
   ]
  },
  {
   "cell_type": "code",
   "execution_count": 47,
   "id": "9d4fb8b4",
   "metadata": {},
   "outputs": [
    {
     "data": {
      "text/plain": [
       "200"
      ]
     },
     "execution_count": 47,
     "metadata": {},
     "output_type": "execute_result"
    }
   ],
   "source": [
    "response.status_code"
   ]
  },
  {
   "cell_type": "code",
   "execution_count": 48,
   "id": "9868a9dc",
   "metadata": {},
   "outputs": [
    {
     "data": {
      "text/plain": [
       "{'location': {'name': 'Louisville',\n",
       "  'region': 'Kentucky',\n",
       "  'country': 'United States of America',\n",
       "  'lat': 38.2542,\n",
       "  'lon': -85.7594,\n",
       "  'tz_id': 'America/Kentucky/Louisville',\n",
       "  'localtime_epoch': 1757258673,\n",
       "  'localtime': '2025-09-07 11:24'},\n",
       " 'current': {'last_updated_epoch': 1757258100,\n",
       "  'last_updated': '2025-09-07 11:15',\n",
       "  'temp_c': 18.9,\n",
       "  'temp_f': 66.0,\n",
       "  'is_day': 1,\n",
       "  'condition': {'text': 'Partly cloudy',\n",
       "   'icon': '//cdn.weatherapi.com/weather/64x64/day/116.png',\n",
       "   'code': 1003},\n",
       "  'wind_mph': 6.0,\n",
       "  'wind_kph': 9.7,\n",
       "  'wind_degree': 338,\n",
       "  'wind_dir': 'NNW',\n",
       "  'pressure_mb': 1022.0,\n",
       "  'pressure_in': 30.19,\n",
       "  'precip_mm': 0.0,\n",
       "  'precip_in': 0.0,\n",
       "  'humidity': 56,\n",
       "  'cloud': 50,\n",
       "  'feelslike_c': 18.9,\n",
       "  'feelslike_f': 66.0,\n",
       "  'windchill_c': 20.7,\n",
       "  'windchill_f': 69.2,\n",
       "  'heatindex_c': 21.5,\n",
       "  'heatindex_f': 70.7,\n",
       "  'dewpoint_c': 7.6,\n",
       "  'dewpoint_f': 45.6,\n",
       "  'vis_km': 16.0,\n",
       "  'vis_miles': 9.0,\n",
       "  'uv': 3.8,\n",
       "  'gust_mph': 7.0,\n",
       "  'gust_kph': 11.2,\n",
       "  'short_rad': 371.44,\n",
       "  'diff_rad': 73.77,\n",
       "  'dni': 373.05,\n",
       "  'gti': 192.06}}"
      ]
     },
     "execution_count": 48,
     "metadata": {},
     "output_type": "execute_result"
    }
   ],
   "source": [
    "data = response.json()\n",
    "data"
   ]
  },
  {
   "cell_type": "code",
   "execution_count": 49,
   "id": "926712d2",
   "metadata": {},
   "outputs": [],
   "source": [
    "current = data['current']\n",
    "location = data['location']\n",
    "temp_f = current['temp_f']\n",
    "wind_mph = current['wind_mph']\n",
    "humidity = current['humidity']"
   ]
  },
  {
   "cell_type": "code",
   "execution_count": 50,
   "id": "51ff275c",
   "metadata": {},
   "outputs": [
    {
     "data": {
      "text/plain": [
       "(66.0, 56)"
      ]
     },
     "execution_count": 50,
     "metadata": {},
     "output_type": "execute_result"
    }
   ],
   "source": [
    "temp_f, humidity"
   ]
  },
  {
   "cell_type": "code",
   "execution_count": 51,
   "id": "cd3ea8d2",
   "metadata": {},
   "outputs": [],
   "source": [
    "def get_weather(city):\n",
    "    url = f\"http://api.weatherapi.com/v1/current.json?key={tiffanies_key}&q={city}\"\n",
    "    response = requests.get(url)\n",
    "    if response.status_code == 200:\n",
    "        data = response.json()\n",
    "        current = data['current']\n",
    "        location = data['location']\n",
    "        temp_f = current['temp_f']\n",
    "        wind_mph = current['wind_mph']\n",
    "        humidity = current['humidity']\n",
    "\n",
    "        print(f\"Weather for {location['name']}, {location['region']}\")\n",
    "        print(f\"Temperature: {current['temp_f']} °F / {current['temp_c']} °C\")\n",
    "        print(f\"Condition: {current['condition']['text']}\"), \n",
    "        print(f\"Humidity: {current['humidity']}%\"),\n",
    "        print(f\"Wind Speed: {current['wind_mph']}mph\"),\n",
    "\n",
    "    else: \n",
    "        print(f\"Error fetching data for {city}/1\")\n",
    "    "
   ]
  },
  {
   "cell_type": "code",
   "execution_count": 52,
   "id": "01a89e99",
   "metadata": {},
   "outputs": [
    {
     "name": "stdout",
     "output_type": "stream",
     "text": [
      "Weather for Louisville, Kentucky\n",
      "Temperature: 66.0 °F / 18.9 °C\n",
      "Condition: Partly cloudy\n",
      "Humidity: 56%\n",
      "Wind Speed: 6.0mph\n"
     ]
    }
   ],
   "source": [
    "get_weather(\"Louisville\")"
   ]
  },
  {
   "cell_type": "code",
   "execution_count": 53,
   "id": "70260bc1",
   "metadata": {},
   "outputs": [
    {
     "name": "stdout",
     "output_type": "stream",
     "text": [
      "Weather for Shelbyville, Tennessee\n",
      "Temperature: 61.0 °F / 16.1 °C\n",
      "Condition: Partly cloudy\n",
      "Humidity: 100%\n",
      "Wind Speed: 10.3mph\n"
     ]
    }
   ],
   "source": [
    "get_weather(\"Shelbyville\")"
   ]
  },
  {
   "cell_type": "code",
   "execution_count": 54,
   "id": "00d1f361",
   "metadata": {},
   "outputs": [
    {
     "name": "stdout",
     "output_type": "stream",
     "text": [
      "Error fetching data for luosvi/1\n"
     ]
    }
   ],
   "source": [
    "get_weather(\"luosvi\")"
   ]
  },
  {
   "cell_type": "code",
   "execution_count": 64,
   "id": "edb14e21",
   "metadata": {},
   "outputs": [],
   "source": [
    "cities = [\"Kappa\", \"Louisville\", \"Morehead\", \"Lihue\", \"New York\"]\n",
    "weather_data = []\n",
    "\n",
    "for city in cities:\n",
    "        url = f\"http://api.weatherapi.com/v1/current.json?key={tiffanies_key}&q={city}\"\n",
    "        response = requests.get(url)\n",
    "        if response.status_code == 200:\n",
    "            data = response.json()\n",
    "            weather_data.append({\n",
    "                \"City\": data['location']['name'],\n",
    "                \"Temperature\": data['current']['temp_f'],\n",
    "                \"Condition\": data['current']['condition']['text'],\n",
    "                \"Humidity\": data['current']['humidity'],\n",
    "                \"Wind Speed\": data['current']['wind_mph'] })\n",
    "        else:\n",
    "            print(\"Error fetching data\")"
   ]
  },
  {
   "cell_type": "code",
   "execution_count": 67,
   "id": "65d21e70",
   "metadata": {},
   "outputs": [
    {
     "data": {
      "text/plain": [
       "[{'City': 'Kappas',\n",
       "  'Temperature': 86.5,\n",
       "  'Condition': 'Sunny',\n",
       "  'Humidity': 31,\n",
       "  'Wind Speed': 5.8},\n",
       " {'City': 'Louisville',\n",
       "  'Temperature': 66.0,\n",
       "  'Condition': 'Partly cloudy',\n",
       "  'Humidity': 56,\n",
       "  'Wind Speed': 6.0},\n",
       " {'City': 'Morehead',\n",
       "  'Temperature': 77.2,\n",
       "  'Condition': 'Patchy rain nearby',\n",
       "  'Humidity': 84,\n",
       "  'Wind Speed': 8.3},\n",
       " {'City': 'Lihue',\n",
       "  'Temperature': 72.0,\n",
       "  'Condition': 'Clear',\n",
       "  'Humidity': 83,\n",
       "  'Wind Speed': 2.5},\n",
       " {'City': 'New York',\n",
       "  'Temperature': 62.1,\n",
       "  'Condition': 'Light rain',\n",
       "  'Humidity': 90,\n",
       "  'Wind Speed': 6.9}]"
      ]
     },
     "execution_count": 67,
     "metadata": {},
     "output_type": "execute_result"
    }
   ],
   "source": [
    "weather_data"
   ]
  },
  {
   "cell_type": "code",
   "execution_count": 68,
   "id": "49fab1cb",
   "metadata": {},
   "outputs": [],
   "source": [
    "weather_df = pd.DataFrame(weather_data)"
   ]
  },
  {
   "cell_type": "code",
   "execution_count": 69,
   "id": "fdb6cb1e",
   "metadata": {},
   "outputs": [
    {
     "data": {
      "text/html": [
       "<div>\n",
       "<style scoped>\n",
       "    .dataframe tbody tr th:only-of-type {\n",
       "        vertical-align: middle;\n",
       "    }\n",
       "\n",
       "    .dataframe tbody tr th {\n",
       "        vertical-align: top;\n",
       "    }\n",
       "\n",
       "    .dataframe thead th {\n",
       "        text-align: right;\n",
       "    }\n",
       "</style>\n",
       "<table border=\"1\" class=\"dataframe\">\n",
       "  <thead>\n",
       "    <tr style=\"text-align: right;\">\n",
       "      <th></th>\n",
       "      <th>City</th>\n",
       "      <th>Temperature</th>\n",
       "      <th>Condition</th>\n",
       "      <th>Humidity</th>\n",
       "      <th>Wind Speed</th>\n",
       "    </tr>\n",
       "  </thead>\n",
       "  <tbody>\n",
       "    <tr>\n",
       "      <th>0</th>\n",
       "      <td>Kappas</td>\n",
       "      <td>86.5</td>\n",
       "      <td>Sunny</td>\n",
       "      <td>31</td>\n",
       "      <td>5.8</td>\n",
       "    </tr>\n",
       "    <tr>\n",
       "      <th>1</th>\n",
       "      <td>Louisville</td>\n",
       "      <td>66.0</td>\n",
       "      <td>Partly cloudy</td>\n",
       "      <td>56</td>\n",
       "      <td>6.0</td>\n",
       "    </tr>\n",
       "    <tr>\n",
       "      <th>2</th>\n",
       "      <td>Morehead</td>\n",
       "      <td>77.2</td>\n",
       "      <td>Patchy rain nearby</td>\n",
       "      <td>84</td>\n",
       "      <td>8.3</td>\n",
       "    </tr>\n",
       "    <tr>\n",
       "      <th>3</th>\n",
       "      <td>Lihue</td>\n",
       "      <td>72.0</td>\n",
       "      <td>Clear</td>\n",
       "      <td>83</td>\n",
       "      <td>2.5</td>\n",
       "    </tr>\n",
       "    <tr>\n",
       "      <th>4</th>\n",
       "      <td>New York</td>\n",
       "      <td>62.1</td>\n",
       "      <td>Light rain</td>\n",
       "      <td>90</td>\n",
       "      <td>6.9</td>\n",
       "    </tr>\n",
       "  </tbody>\n",
       "</table>\n",
       "</div>"
      ],
      "text/plain": [
       "         City  Temperature           Condition  Humidity  Wind Speed\n",
       "0      Kappas         86.5               Sunny        31         5.8\n",
       "1  Louisville         66.0       Partly cloudy        56         6.0\n",
       "2    Morehead         77.2  Patchy rain nearby        84         8.3\n",
       "3       Lihue         72.0               Clear        83         2.5\n",
       "4    New York         62.1          Light rain        90         6.9"
      ]
     },
     "execution_count": 69,
     "metadata": {},
     "output_type": "execute_result"
    }
   ],
   "source": [
    "weather_df.head()"
   ]
  },
  {
   "cell_type": "code",
   "execution_count": 71,
   "id": "ea02689d",
   "metadata": {},
   "outputs": [],
   "source": [
    "weather_df.to_csv(\"sample_weather_data.csv\", index=False)"
   ]
  }
 ],
 "metadata": {
  "kernelspec": {
   "display_name": "Python 3",
   "language": "python",
   "name": "python3"
  },
  "language_info": {
   "codemirror_mode": {
    "name": "ipython",
    "version": 3
   },
   "file_extension": ".py",
   "mimetype": "text/x-python",
   "name": "python",
   "nbconvert_exporter": "python",
   "pygments_lexer": "ipython3",
   "version": "3.13.7"
  }
 },
 "nbformat": 4,
 "nbformat_minor": 5
}
