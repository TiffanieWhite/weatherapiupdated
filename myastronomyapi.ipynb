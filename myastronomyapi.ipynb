{
 "cells": [
  {
   "cell_type": "code",
   "execution_count": 1,
   "id": "8c72283b",
   "metadata": {},
   "outputs": [],
   "source": [
    "import requests\n",
    "import pandas as pd\n",
    "from datetime import datetime"
   ]
  },
  {
   "cell_type": "code",
   "execution_count": 2,
   "id": "dc3ab8f4",
   "metadata": {},
   "outputs": [],
   "source": [
    "api_key = \"a76201b1111a476\"\n",
    "baseurl = \"http://api.weatherapi.com/v1/\"\n",
    "#f\"http://api.weatherapi.com/v1/current.json?key={api_key}&q={city}\"\n",
    "city=\"Louisville\""
   ]
  },
  {
   "cell_type": "code",
   "execution_count": 3,
   "id": "eca4676f",
   "metadata": {},
   "outputs": [
    {
     "data": {
      "text/plain": [
       "200"
      ]
     },
     "execution_count": 3,
     "metadata": {},
     "output_type": "execute_result"
    }
   ],
   "source": [
    "response = requests.get(f\"http://api.weatherapi.com/v1/current.json?key={api_key}&q={city}\")\n",
    "response.status_code"
   ]
  },
  {
   "cell_type": "code",
   "execution_count": 4,
   "id": "57827936",
   "metadata": {},
   "outputs": [
    {
     "data": {
      "text/plain": [
       "{'last_updated_epoch': 1757502000,\n",
       " 'last_updated': '2025-09-10 07:00',\n",
       " 'temp_c': 15.6,\n",
       " 'temp_f': 60.1,\n",
       " 'is_day': 0,\n",
       " 'condition': {'text': 'Partly cloudy',\n",
       "  'icon': '//cdn.weatherapi.com/weather/64x64/night/116.png',\n",
       "  'code': 1003},\n",
       " 'wind_mph': 2.2,\n",
       " 'wind_kph': 3.6,\n",
       " 'wind_degree': 96,\n",
       " 'wind_dir': 'E',\n",
       " 'pressure_mb': 1021.0,\n",
       " 'pressure_in': 30.14,\n",
       " 'precip_mm': 0.0,\n",
       " 'precip_in': 0.0,\n",
       " 'humidity': 80,\n",
       " 'cloud': 75,\n",
       " 'feelslike_c': 15.6,\n",
       " 'feelslike_f': 60.1,\n",
       " 'windchill_c': 16.9,\n",
       " 'windchill_f': 62.4,\n",
       " 'heatindex_c': 16.9,\n",
       " 'heatindex_f': 62.4,\n",
       " 'dewpoint_c': 12.4,\n",
       " 'dewpoint_f': 54.4,\n",
       " 'vis_km': 16.0,\n",
       " 'vis_miles': 9.0,\n",
       " 'uv': 0.0,\n",
       " 'gust_mph': 3.8,\n",
       " 'gust_kph': 6.0,\n",
       " 'short_rad': 0,\n",
       " 'diff_rad': 0,\n",
       " 'dni': 0,\n",
       " 'gti': 0}"
      ]
     },
     "execution_count": 4,
     "metadata": {},
     "output_type": "execute_result"
    }
   ],
   "source": [
    "data = response.json()\n",
    "data ['current']"
   ]
  },
  {
   "cell_type": "code",
   "execution_count": 6,
   "id": "ef80e320",
   "metadata": {},
   "outputs": [
    {
     "data": {
      "text/plain": [
       "200"
      ]
     },
     "execution_count": 6,
     "metadata": {},
     "output_type": "execute_result"
    }
   ],
   "source": [
    "forecast_url = f\"{baseurl}forecast.json?key={api_key}&q={city}&days=3\"\n",
    "forecast_response =requests.get(forecast_url)\n",
    "forecast_response.status_code"
   ]
  },
  {
   "cell_type": "code",
   "execution_count": 14,
   "id": "6a7977ed",
   "metadata": {},
   "outputs": [
    {
     "ename": "TypeError",
     "evalue": "list indices must be integers or slices, not str",
     "output_type": "error",
     "traceback": [
      "\u001b[31m---------------------------------------------------------------------------\u001b[39m",
      "\u001b[31mTypeError\u001b[39m                                 Traceback (most recent call last)",
      "\u001b[36mCell\u001b[39m\u001b[36m \u001b[39m\u001b[32mIn[14]\u001b[39m\u001b[32m, line 2\u001b[39m\n\u001b[32m      1\u001b[39m forecast_data = forecast_response.json()\n\u001b[32m----> \u001b[39m\u001b[32m2\u001b[39m forecast = \u001b[43mforecast_data\u001b[49m\u001b[43m[\u001b[49m\u001b[33;43m'\u001b[39;49m\u001b[33;43mforecast\u001b[39;49m\u001b[33;43m'\u001b[39;49m\u001b[43m]\u001b[49m\u001b[43m[\u001b[49m\u001b[33;43m'\u001b[39;49m\u001b[33;43mforecastday\u001b[39;49m\u001b[33;43m'\u001b[39;49m\u001b[43m]\u001b[49m\u001b[43m[\u001b[49m\u001b[33;43m'\u001b[39;49m\u001b[33;43mastronomy\u001b[39;49m\u001b[33;43m'\u001b[39;49m\u001b[43m]\u001b[49m\n\u001b[32m      3\u001b[39m forecast\n",
      "\u001b[31mTypeError\u001b[39m: list indices must be integers or slices, not str"
     ]
    }
   ],
   "source": [
    "forecast_data = forecast_response.json()\n",
    "forecast = forecast_data['forecast']['forecastday']['astronomy']\n",
    "forecast"
   ]
  }
 ],
 "metadata": {
  "kernelspec": {
   "display_name": "Python 3",
   "language": "python",
   "name": "python3"
  },
  "language_info": {
   "codemirror_mode": {
    "name": "ipython",
    "version": 3
   },
   "file_extension": ".py",
   "mimetype": "text/x-python",
   "name": "python",
   "nbconvert_exporter": "python",
   "pygments_lexer": "ipython3",
   "version": "3.13.7"
  }
 },
 "nbformat": 4,
 "nbformat_minor": 5
}
